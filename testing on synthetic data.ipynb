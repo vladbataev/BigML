{
 "cells": [
  {
   "cell_type": "code",
   "execution_count": 17,
   "metadata": {
    "collapsed": true,
    "deletable": true,
    "editable": true
   },
   "outputs": [],
   "source": [
    "import numpy as np\n",
    "import pandas as pd"
   ]
  },
  {
   "cell_type": "code",
   "execution_count": 18,
   "metadata": {
    "collapsed": true,
    "deletable": true,
    "editable": true
   },
   "outputs": [],
   "source": [
    "def generate_next(result, lags, coefficients, noise):\n",
    "    ans = 0.0\n",
    "    for i in range(len(lags)):\n",
    "        ans += result[-lags[i]] * coefficients[i] + noise * np.random.rand()\n",
    "    return ans\n",
    "\n",
    "def generate_sequence(lags, coefficients, initial, length, noise):    \n",
    "    result = []\n",
    "    for value in initial:\n",
    "        result.append(value)\n",
    "    for _ in range(length - len(initial)):\n",
    "        result.append(generate_next(result, lags, coefficients, noise))\n",
    "    return result"
   ]
  },
  {
   "cell_type": "code",
   "execution_count": 19,
   "metadata": {
    "collapsed": false,
    "deletable": true,
    "editable": true
   },
   "outputs": [
    {
     "name": "stdout",
     "output_type": "stream",
     "text": [
      "(200, 6)\n"
     ]
    },
    {
     "data": {
      "text/html": [
       "<div>\n",
       "<table border=\"1\" class=\"dataframe\">\n",
       "  <thead>\n",
       "    <tr style=\"text-align: right;\">\n",
       "      <th></th>\n",
       "      <th>timestamps</th>\n",
       "      <th>0</th>\n",
       "      <th>1</th>\n",
       "      <th>2</th>\n",
       "      <th>3</th>\n",
       "      <th>4</th>\n",
       "    </tr>\n",
       "  </thead>\n",
       "  <tbody>\n",
       "    <tr>\n",
       "      <th>0</th>\n",
       "      <td>0</td>\n",
       "      <td>-0.053928</td>\n",
       "      <td>-0.063949</td>\n",
       "      <td>-0.139517</td>\n",
       "      <td>-0.172362</td>\n",
       "      <td>-0.085158</td>\n",
       "    </tr>\n",
       "    <tr>\n",
       "      <th>1</th>\n",
       "      <td>1</td>\n",
       "      <td>0.767399</td>\n",
       "      <td>0.751425</td>\n",
       "      <td>0.909421</td>\n",
       "      <td>1.057764</td>\n",
       "      <td>0.404478</td>\n",
       "    </tr>\n",
       "    <tr>\n",
       "      <th>2</th>\n",
       "      <td>2</td>\n",
       "      <td>0.088875</td>\n",
       "      <td>0.073456</td>\n",
       "      <td>0.013269</td>\n",
       "      <td>0.003153</td>\n",
       "      <td>-0.022230</td>\n",
       "    </tr>\n",
       "    <tr>\n",
       "      <th>3</th>\n",
       "      <td>3</td>\n",
       "      <td>-0.535282</td>\n",
       "      <td>-0.503658</td>\n",
       "      <td>-0.495393</td>\n",
       "      <td>-0.557664</td>\n",
       "      <td>-0.177869</td>\n",
       "    </tr>\n",
       "    <tr>\n",
       "      <th>4</th>\n",
       "      <td>4</td>\n",
       "      <td>-0.460217</td>\n",
       "      <td>-0.455394</td>\n",
       "      <td>-0.577661</td>\n",
       "      <td>-0.676193</td>\n",
       "      <td>-0.266785</td>\n",
       "    </tr>\n",
       "  </tbody>\n",
       "</table>\n",
       "</div>"
      ],
      "text/plain": [
       "   timestamps         0         1         2         3         4\n",
       "0           0 -0.053928 -0.063949 -0.139517 -0.172362 -0.085158\n",
       "1           1  0.767399  0.751425  0.909421  1.057764  0.404478\n",
       "2           2  0.088875  0.073456  0.013269  0.003153 -0.022230\n",
       "3           3 -0.535282 -0.503658 -0.495393 -0.557664 -0.177869\n",
       "4           4 -0.460217 -0.455394 -0.577661 -0.676193 -0.266785"
      ]
     },
     "execution_count": 19,
     "metadata": {},
     "output_type": "execute_result"
    }
   ],
   "source": [
    "np.random.seed(0)\n",
    "LAT_DIM = 2\n",
    "LENGTH = 200\n",
    "REAL_DIM = 5\n",
    "NOISE_COEFFICIENT_LAT = 1e-6\n",
    "NOISE_COEFFICIENT_Y = 1e-6\n",
    "\n",
    "lags = [1, 2, 3]\n",
    "coefficients = [-1.0 + 2.0 * np.cos(np.sqrt(2)), -1.0 + 2 * np.cos(np.sqrt(2)), -1.0]\n",
    "                \n",
    "\n",
    "lat_sequences = []\n",
    "for i in range(LAT_DIM):\n",
    "    initial = np.random.uniform(low = -1.0, high = 1.0, size = len(lags))\n",
    "    sequence = generate_sequence(lags, coefficients, initial, LENGTH, NOISE_COEFFICIENT_LAT)\n",
    "    lat_sequences.append(sequence)\n",
    "\n",
    "lat_sequences = np.asarray(lat_sequences) \n",
    "\n",
    "\n",
    "\n",
    "F = np.random.rand(LAT_DIM, REAL_DIM)\n",
    "Y = lat_sequences.T.dot(F).T\n",
    "\n",
    "Y = Y + NOISE_COEFFICIENT_Y * np.random.rand(*Y.shape)\n",
    "dic = {}\n",
    "for i in range(REAL_DIM):\n",
    "    dic[i] = Y[i, :]\n",
    "dic['timestamps'] = np.arange(Y.shape[1])\n",
    "\n",
    "dataset = pd.DataFrame(dic)\n",
    "columns_except_timestamps = [column for column in dataset.columns if column != 'timestamps']\n",
    "dataset = dataset[['timestamps'] + columns_except_timestamps]\n",
    "print(dataset.shape)\n",
    "dataset.head()"
   ]
  },
  {
   "cell_type": "code",
   "execution_count": 20,
   "metadata": {
    "collapsed": true,
    "deletable": true,
    "editable": true
   },
   "outputs": [],
   "source": [
    "import math\n",
    "import os\n",
    "def launch(dir_for_tmp_files, dataset, id, num_to_test = 50, steps = 100, verbose = False, eval = False,\\\n",
    "          eta = 1, lambdaX = 1, lambdaW = 1, lambdaF = 1, standardize = True, lat_dim = 2,\\\n",
    "           lags = [1, 5, 10, 20, 25, 100]):\n",
    "    \n",
    "    name = dir_for_tmp_files + '/' + 'current_launch' + str(id) + '.csv'\n",
    "    dataset.to_csv(name, sep = ';', index = False)\n",
    "    if 'timestamps' in dataset.columns:\n",
    "        timestamps = dataset['timestamps'].as_matrix()\n",
    "    else:\n",
    "        timestamps = dataset['timestamp'].as_matrix()\n",
    "    \n",
    "    #train_start = math.ceil(timestamps[1])\n",
    "    #train_end = math.floor(timestamps[timestamps.shape[0] -num_to_test - 1])\n",
    "    #test_start = math.ceil(timestamps[timestamps.shape[0] -num_to_test])\n",
    "    #test_end = math.floor(timestamps[-2])\n",
    "    \n",
    "    #train_start = 1513357140\n",
    "    train_start = math.ceil(timestamps[0])\n",
    "    #train_end = 1517653140\n",
    "    train_end =  math.floor(timestamps[-num_to_test])\n",
    "    #test_start = 1517653260\n",
    "    test_start = math.ceil(timestamps[-num_to_test])\n",
    "    test_end = math.floor(timestamps[-1])\n",
    "    command = \"./main --dataset_path \" + name + \" --separator ';'\"\n",
    "    command += ' --train_start ' + str(train_start)\n",
    "    command += ' --train_end ' + str(train_end)\n",
    "    command += ' --test_start ' + str(test_start)\n",
    "    command += ' --test_end ' + str(test_end)\n",
    "    command += ' --steps ' + str(steps)\n",
    "    \n",
    "    if verbose:\n",
    "        command += ' --verbose 1'\n",
    "    else:\n",
    "        command += ' --verbose 0'\n",
    "    \n",
    "    if eval:\n",
    "        command += ' --eval 1'\n",
    "    else:\n",
    "        command += ' --eval 0'\n",
    "    \n",
    "    command += ' --predictions_out ' + dir_for_tmp_files + '/predictions_' + str(id) + '.csv'\n",
    "    command += ' --eta ' + str(eta)\n",
    "    command += ' --lambdaX ' + str(lambdaX)\n",
    "    command += ' --lambdaW ' + str(lambdaW)\n",
    "    command += ' --lambdaF ' + str(lambdaF)\n",
    "    \n",
    "    if standardize:\n",
    "        command += ' --standardize 1'\n",
    "    else:\n",
    "        command += ' --standardize 0'\n",
    "    \n",
    "    command += ' --lags '\n",
    "    for lag in lags:\n",
    "        command += str(lag) + ' '\n",
    "    \n",
    "    command += ' --lat_dim ' + str(lat_dim)\n",
    "    command += ' --factor_out ' + dir_for_tmp_files + '/factor_out_' + str(id)\n",
    "    logs_file_name = 'logs_file_' + str(id)\n",
    "    command += ' --logs_file ' + dir_for_tmp_files + '/' + logs_file_name\n",
    "    #print(command)\n",
    "    os.system(command)\n",
    "    \n",
    "    with open(dir_for_tmp_files + '/' + logs_file_name, 'r') as f:\n",
    "        logs = [line for line in f]   \n",
    "    \n",
    "    return logs"
   ]
  },
  {
   "cell_type": "code",
   "execution_count": 23,
   "metadata": {
    "collapsed": false,
    "deletable": true,
    "editable": true
   },
   "outputs": [],
   "source": [
    "logs = launch('tmp', dataset, 1, num_to_test = 10, steps = 100, verbose = True, eval = True,\\\n",
    "          eta = 0.01, lambdaX = 1, lambdaW = 1e-8, lambdaF = 1e-8, standardize = True, lat_dim = 2,\\\n",
    "           lags = [1, 2, 3])"
   ]
  },
  {
   "cell_type": "code",
   "execution_count": 24,
   "metadata": {
    "collapsed": false,
    "deletable": true,
    "editable": true
   },
   "outputs": [
    {
     "name": "stdout",
     "output_type": "stream",
     "text": [
      "real coefficients: \n",
      "[-0.68811261 -0.68811261 -1.        ]\n",
      "restored coefficients: \n",
      "[[-0.68781104 -0.68794362 -0.99966855]\n",
      " [-0.68712377 -0.68815798 -0.99898182]]\n"
     ]
    }
   ],
   "source": [
    "print(\"real coefficients: \")\n",
    "print(np.asarray(coefficients))\n",
    "W_restored = pd.read_csv('tmp/factor_out_1_W.csv', header = None)\n",
    "print(\"restored coefficients: \")\n",
    "print(W_restored.as_matrix().T)"
   ]
  },
  {
   "cell_type": "code",
   "execution_count": 29,
   "metadata": {
    "collapsed": false,
    "deletable": true,
    "editable": true
   },
   "outputs": [
    {
     "name": "stdout",
     "output_type": "stream",
     "text": [
      "real F: \n",
      "[[0.92797617 0.86686091 0.81615075 0.91145088 0.27633715]\n",
      " [0.36952354 0.3798939  0.56045059 0.66821823 0.28671668]]\n",
      "restored F: \n",
      "[[-5.55674486 -4.00195229  3.60816067  4.72042094 10.39494811]\n",
      " [ 7.9743076   7.56093467  5.47900965  5.16657706  3.53981488]]\n"
     ]
    }
   ],
   "source": [
    "print(\"real F: \")\n",
    "print(np.asarray(F))\n",
    "F_restored = pd.read_csv('tmp/factor_out_1_F.csv')\n",
    "print(\"restored F: \")\n",
    "print(F_restored.as_matrix())"
   ]
  },
  {
   "cell_type": "code",
   "execution_count": null,
   "metadata": {
    "collapsed": true,
    "deletable": true,
    "editable": true
   },
   "outputs": [],
   "source": []
  }
 ],
 "metadata": {
  "kernelspec": {
   "display_name": "Python 3",
   "language": "python",
   "name": "python3"
  },
  "language_info": {
   "codemirror_mode": {
    "name": "ipython",
    "version": 3
   },
   "file_extension": ".py",
   "mimetype": "text/x-python",
   "name": "python",
   "nbconvert_exporter": "python",
   "pygments_lexer": "ipython3",
   "version": "3.5.2"
  }
 },
 "nbformat": 4,
 "nbformat_minor": 2
}
