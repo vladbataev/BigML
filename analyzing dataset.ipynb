{
 "cells": [
  {
   "cell_type": "code",
   "execution_count": 1,
   "metadata": {},
   "outputs": [],
   "source": [
    "import pandas\n",
    "import os\n",
    "import numpy as np\n",
    "import datetime\n",
    "import time\n",
    "import tqdm"
   ]
  },
  {
   "cell_type": "code",
   "execution_count": 2,
   "metadata": {},
   "outputs": [],
   "source": [
    "def parse_datetime(datetime_string):\n",
    "    result  = datetime_string.split('T')\n",
    "    if len(result) < 2:\n",
    "        return None\n",
    "    date, time = datetime_string.split('T')\n",
    "    year, month, day = [int(value) for value in date.split('-')]\n",
    "    #print(year, month, day)\n",
    "    hour, minute, second = [int(value) for value in time.split(':')]\n",
    "    #print(hour, minute, second)\n",
    "    datetime_object = datetime.datetime(year = year, month = month, day = day,\\\n",
    "                                        hour = hour, minute = minute, second = second)\n",
    "    #print(datetime_object)\n",
    "    return datetime_object.timestamp()\n",
    "\n",
    "def add_timestamps(data):\n",
    "    times_string = data['T'].as_matrix()\n",
    "    timestamps = [int(parse_datetime(value)) for value in times_string]\n",
    "    data['timestamp'] = pandas.Series(timestamps, index = data.index)\n",
    "    return data\n",
    "\n",
    "def add_missing(data, delta, boards = None):\n",
    "    timestamps = data['timestamp'].as_matrix()\n",
    "    min_timestamp = np.min(timestamps)\n",
    "    max_timestamp = np.max(timestamps)\n",
    "    \n",
    "    if boards is None:\n",
    "        start, end = min_timestamp, max_timestamp\n",
    "    else:\n",
    "        start, end = boards\n",
    "    all_rows = []\n",
    "    for value_now in range(start, end, delta):\n",
    "        if value_now not in timestamps:\n",
    "            nan_columns = [column for column in data.columns if column != 'timestamp']\n",
    "            new_row = {}\n",
    "            for column in nan_columns:\n",
    "                new_row[column] = ''\n",
    "\n",
    "            new_row['timestamp'] = value_now\n",
    "            #data.append(new_row, ignore_index = 'True')\n",
    "            all_rows.append(new_row)\n",
    "    \n",
    "    if len(all_rows) > 0:\n",
    "        data = data.append(all_rows, ignore_index = 'True')\n",
    "    data = data.sort_values(by = 'timestamp')\n",
    "    return data\n",
    "\n"
   ]
  },
  {
   "cell_type": "code",
   "execution_count": 3,
   "metadata": {},
   "outputs": [],
   "source": [
    "def read_datas(datas_type, delta, process = False):\n",
    "    all_pairs = os.listdir('history')\n",
    "    btc_pairs = [pair for pair in all_pairs if pair[0:3] == 'BTC']\n",
    "    \n",
    "    datas = {}\n",
    "    print(\"reading \", datas_type)\n",
    "    for btc_pair in tqdm.tqdm(btc_pairs):\n",
    "        path = 'history/' + btc_pair +  '/' + datas_type + '/'\n",
    "        file = os.listdir(path)[0]\n",
    "        if process:\n",
    "            datas[btc_pair] = add_missing(add_timestamps(pandas.read_csv(path + file, sep = ';')), delta)\n",
    "        else:\n",
    "            datas[btc_pair] = pandas.read_csv(path + file, sep = ';')\n",
    "    return datas"
   ]
  },
  {
   "cell_type": "code",
   "execution_count": 4,
   "metadata": {},
   "outputs": [],
   "source": [
    "def get_duration_info(datas):\n",
    "    min_start, min_end, max_start, max_end = None, None, None, None\n",
    "    min_duration, max_duration = None, None\n",
    "    \n",
    "    def update_max(new_value, max_now):\n",
    "        \n",
    "        if max_now is None:\n",
    "            return new_value\n",
    "        if new_value > max_now:\n",
    "            return new_value\n",
    "        return max_now\n",
    "    \n",
    "    def update_min(new_value, min_now):\n",
    "       \n",
    "        if min_now is None:\n",
    "            return new_value\n",
    "        if new_value < min_now:\n",
    "            return new_value\n",
    "        return min_now\n",
    "    \n",
    "    for key in datas.keys():\n",
    "        this_start = parse_datetime(datas[key]['T'].iloc[0])\n",
    "        this_end = parse_datetime(datas[key]['T'].iloc[-1])\n",
    "        \n",
    "        min_start = update_min(this_start, min_start)\n",
    "        max_start = update_max(this_start, max_start)\n",
    "        \n",
    "        min_end = update_min(this_end, min_end)\n",
    "        max_end = update_max(this_end, max_end)\n",
    "        \n",
    "       \n",
    "            \n",
    "        this_duration = this_end - this_start\n",
    "        \n",
    "        min_duration = update_min(this_duration, min_duration)\n",
    "        max_duration = update_max(this_duration, max_duration)\n",
    "        \n",
    "    return datetime.datetime.fromtimestamp(min_start),\\\n",
    "           datetime.datetime.fromtimestamp(max_start),\\\n",
    "           datetime.datetime.fromtimestamp(min_end),\\\n",
    "           datetime.datetime.fromtimestamp(max_end),\\\n",
    "           min_duration,\\\n",
    "           max_duration\n",
    "           "
   ]
  },
  {
   "cell_type": "code",
   "execution_count": 5,
   "metadata": {},
   "outputs": [
    {
     "name": "stdout",
     "output_type": "stream",
     "text": [
      "[[], [], [], [], []]\n"
     ]
    }
   ],
   "source": [
    "print([[]] * 5)"
   ]
  },
  {
   "cell_type": "code",
   "execution_count": 6,
   "metadata": {},
   "outputs": [],
   "source": [
    "import tqdm\n",
    "def get_intersections(segments):\n",
    "    all_points_positions = []\n",
    "    for segment in segments:\n",
    "        all_points_positions.append(segment[0])\n",
    "        all_points_positions.append(segment[1])\n",
    "        \n",
    "    all_points_positions = np.sort(all_points_positions)\n",
    "    \n",
    "    result = np.zeros([len(segments) + 1])\n",
    "    solutions = [[]] * (len(segments) + 1)\n",
    "    \n",
    "    for left_index in range(all_points_positions.shape[0]):\n",
    "        for right_index in range(left_index + 1, all_points_positions.shape[0]):\n",
    "            left_board = all_points_positions[left_index]\n",
    "            right_board = all_points_positions[right_index]\n",
    "            length_now = right_board - left_board\n",
    "            \n",
    "            num_now = 0\n",
    "            solution_now = []\n",
    "            for i in range(len(segments)):\n",
    "                segment = segments[i]\n",
    "                if segment[0] <= left_board and segment[1] >= right_board:\n",
    "                    num_now += 1\n",
    "                    solution_now.append(i)\n",
    "                \n",
    "            \n",
    "            if length_now > result[num_now]:\n",
    "                result[num_now] = length_now\n",
    "                solutions[num_now] = solution_now\n",
    "    \n",
    "    now = 0\n",
    "    solution_now = []\n",
    "    for i in range(len(segments), -1, -1):\n",
    "        if result[i] > now:\n",
    "            now = result[i]\n",
    "            solution_now = solutions[i]\n",
    "        if now > result[i]:\n",
    "            result[i] = now\n",
    "            solutions[i] = solution_now\n",
    "        result[i] = max(now, result[i])\n",
    "    \n",
    "    return result[1:], solutions[1:]"
   ]
  },
  {
   "cell_type": "code",
   "execution_count": 7,
   "metadata": {},
   "outputs": [],
   "source": [
    "def get_intersections_from_datas(datas):\n",
    "    segments = []\n",
    "    ordered_keys = list(datas.keys())\n",
    "    for key in ordered_keys:\n",
    "        this_start = parse_datetime(datas[key]['T'].iloc[0])\n",
    "        this_end = parse_datetime(datas[key]['T'].iloc[-1])\n",
    "        segments.append([this_start, this_end])\n",
    "    \n",
    "    intersections_info, solutions = get_intersections(segments)\n",
    "    named_solutions = []\n",
    "    for solution_now in solutions:\n",
    "        named_solution_now = []\n",
    "        for segment_id in solution_now:\n",
    "            segment_name = ordered_keys[segment_id]\n",
    "            named_solution_now.append(segment_name)\n",
    "        named_solutions.append(named_solution_now)\n",
    "        \n",
    "    return intersections_info, named_solutions"
   ]
  },
  {
   "cell_type": "code",
   "execution_count": 8,
   "metadata": {},
   "outputs": [],
   "source": [
    "from matplotlib import pyplot as plt\n",
    "\n",
    "def convert_to_all(seconds):\n",
    "    minutes = seconds / 60.0\n",
    "    hours = minutes / 60.0\n",
    "    days = hours / 24.0\n",
    "    return days, hours, minutes\n",
    "\n",
    "def get_full_summary():\n",
    "    datas_types = ['oneMin', 'fiveMin', 'thirtyMin', 'hour', 'day']\n",
    "    deltas = [60, 5 * 60, 30 * 60, 60 * 60, 60 * 60 * 24]\n",
    "    intersections_summary = {}\n",
    "    for i in range(len(datas_types)):\n",
    "        datas_type = datas_types[i]\n",
    "        delta = deltas[i]\n",
    "        \n",
    "        datas = read_datas(datas_type, delta)\n",
    "        \n",
    "        print(\"SUMMARY FOR \" + datas_type + \":\")\n",
    "        min_start, max_start, min_end, max_end, min_duration, max_duration =\\\n",
    "                    get_duration_info(datas)\n",
    "        print(\"min start: \", min_start)\n",
    "        print(\"max start: \", max_start)\n",
    "        print(\"min end: \", min_end)\n",
    "        print(\"max end: \", max_end)\n",
    "        \n",
    "        min_start = min_start.timestamp()\n",
    "        max_start = max_start.timestamp()\n",
    "        min_end = min_end.timestamp()\n",
    "        max_end = max_end.timestamp()\n",
    "        \n",
    "        print(\"min duration in days, hours and minutes: \", convert_to_all(min_duration))\n",
    "        \n",
    "        print(\"max duration in days, hours and minutes: \", convert_to_all(max_duration))\n",
    "        \n",
    "        \n",
    "        overlap = min_end - max_start\n",
    "        if overlap < 0.0:\n",
    "            overlap = 0.0\n",
    "        print(\"full overlap in seconds: \", overlap)\n",
    "        print(\"full overlap / max duration: \", overlap / max_duration)\n",
    "        \n",
    "        intersections_info, named_solutions = get_intersections_from_datas(datas)\n",
    "        plt.plot(intersections_info)\n",
    "        plt.show()\n",
    "        \n",
    "        intersections_summary[datas_type] = [intersections_info, named_solutions]\n",
    "        print(\"\\n\\n\\n\")\n",
    "    return intersections_summary"
   ]
  },
  {
   "cell_type": "code",
   "execution_count": 9,
   "metadata": {},
   "outputs": [
    {
     "name": "stderr",
     "output_type": "stream",
     "text": [
      "\r",
      "  0%|          | 0/199 [00:00<?, ?it/s]"
     ]
    },
    {
     "name": "stdout",
     "output_type": "stream",
     "text": [
      "reading  oneMin\n"
     ]
    },
    {
     "name": "stderr",
     "output_type": "stream",
     "text": [
      "100%|██████████| 199/199 [00:46<00:00,  4.28it/s]\n"
     ]
    },
    {
     "name": "stdout",
     "output_type": "stream",
     "text": [
      "SUMMARY FOR oneMin:\n",
      "min start:  2017-12-09 20:51:00\n",
      "max start:  2018-01-30 22:03:00\n",
      "min end:  2017-12-28 11:10:00\n",
      "max end:  2018-02-04 03:28:00\n",
      "min duration in days, hours and minutes:  (4.225694444444445, 101.41666666666667, 6085.0)\n",
      "max duration in days, hours and minutes:  (56.205555555555556, 1348.9333333333334, 80936.0)\n",
      "full overlap in seconds:  0.0\n",
      "full overlap / max duration:  0.0\n"
     ]
    },
    {
     "data": {
      "image/png": "[encoded data removed]",
      "text/plain": [
       "<matplotlib.figure.Figure at 0x10ae605f8>"
      ]
     },
     "metadata": {},
     "output_type": "display_data"
    },
    {
     "name": "stderr",
     "output_type": "stream",
     "text": [
      "\r",
      "  0%|          | 0/199 [00:00<?, ?it/s]"
     ]
    },
    {
     "name": "stdout",
     "output_type": "stream",
     "text": [
      "\n",
      "\n",
      "\n",
      "\n",
      "reading  fiveMin\n"
     ]
    },
    {
     "name": "stderr",
     "output_type": "stream",
     "text": [
      "100%|██████████| 199/199 [01:17<00:00,  2.56it/s]\n"
     ]
    },
    {
     "name": "stdout",
     "output_type": "stream",
     "text": [
      "SUMMARY FOR fiveMin:\n",
      "min start:  2017-11-29 20:50:00\n",
      "max start:  2018-01-30 22:00:00\n",
      "min end:  2017-12-28 11:10:00\n",
      "max end:  2018-02-04 03:25:00\n",
      "min duration in days, hours and minutes:  (4.225694444444445, 101.41666666666667, 6085.0)\n",
      "max duration in days, hours and minutes:  (66.20138888888889, 1588.8333333333333, 95330.0)\n",
      "full overlap in seconds:  0.0\n",
      "full overlap / max duration:  0.0\n"
     ]
    },
    {
     "data": {
      "image/png": "[encoded data removed]",
      "text/plain": [
       "<matplotlib.figure.Figure at 0x1bd8869e8>"
      ]
     },
     "metadata": {},
     "output_type": "display_data"
    },
    {
     "name": "stderr",
     "output_type": "stream",
     "text": [
      "  2%|▏         | 4/199 [00:00<00:04, 39.98it/s]"
     ]
    },
    {
     "name": "stdout",
     "output_type": "stream",
     "text": [
      "\n",
      "\n",
      "\n",
      "\n",
      "reading  thirtyMin\n"
     ]
    },
    {
     "name": "stderr",
     "output_type": "stream",
     "text": [
      "100%|██████████| 199/199 [00:11<00:00, 17.35it/s]\n"
     ]
    },
    {
     "name": "stdout",
     "output_type": "stream",
     "text": [
      "SUMMARY FOR thirtyMin:\n",
      "min start:  2017-11-09 21:00:00\n",
      "max start:  2018-01-30 22:00:00\n",
      "min end:  2017-12-28 11:00:00\n",
      "max end:  2018-02-04 03:00:00\n",
      "min duration in days, hours and minutes:  (4.208333333333333, 101.0, 6060.0)\n",
      "max duration in days, hours and minutes:  (86.1875, 2068.5, 124110.0)\n",
      "full overlap in seconds:  0.0\n",
      "full overlap / max duration:  0.0\n"
     ]
    },
    {
     "data": {
      "image/png": "[encoded data removed]",
      "text/plain": [
       "<matplotlib.figure.Figure at 0x10dc42d68>"
      ]
     },
     "metadata": {},
     "output_type": "display_data"
    },
    {
     "name": "stderr",
     "output_type": "stream",
     "text": [
      "  4%|▎         | 7/199 [00:00<00:03, 61.29it/s]"
     ]
    },
    {
     "name": "stdout",
     "output_type": "stream",
     "text": [
      "\n",
      "\n",
      "\n",
      "\n",
      "reading  hour\n"
     ]
    },
    {
     "name": "stderr",
     "output_type": "stream",
     "text": [
      "100%|██████████| 199/199 [00:03<00:00, 55.87it/s]\n"
     ]
    },
    {
     "name": "stdout",
     "output_type": "stream",
     "text": [
      "SUMMARY FOR hour:\n",
      "min start:  2017-10-20 21:00:00\n",
      "max start:  2018-01-30 22:00:00\n",
      "min end:  2017-12-28 11:00:00\n",
      "max end:  2018-02-09 13:00:00\n",
      "min duration in days, hours and minutes:  (4.208333333333333, 101.0, 6060.0)\n",
      "max duration in days, hours and minutes:  (111.66666666666667, 2680.0, 160800.0)\n",
      "full overlap in seconds:  0.0\n",
      "full overlap / max duration:  0.0\n"
     ]
    },
    {
     "data": {
      "image/png": "[encoded data removed]",
      "text/plain": [
       "<matplotlib.figure.Figure at 0x10dc8a828>"
      ]
     },
     "metadata": {},
     "output_type": "display_data"
    },
    {
     "name": "stderr",
     "output_type": "stream",
     "text": [
      "  8%|▊         | 15/199 [00:00<00:01, 147.42it/s]"
     ]
    },
    {
     "name": "stdout",
     "output_type": "stream",
     "text": [
      "\n",
      "\n",
      "\n",
      "\n",
      "reading  day\n"
     ]
    },
    {
     "name": "stderr",
     "output_type": "stream",
     "text": [
      "100%|██████████| 199/199 [00:01<00:00, 111.04it/s]\n"
     ]
    },
    {
     "name": "stdout",
     "output_type": "stream",
     "text": [
      "SUMMARY FOR day:\n",
      "min start:  2014-02-14 00:00:00\n",
      "max start:  2018-01-30 00:00:00\n",
      "min end:  2017-12-28 00:00:00\n",
      "max end:  2018-02-04 00:00:00\n",
      "min duration in days, hours and minutes:  (5.0, 120.0, 7200.0)\n",
      "max duration in days, hours and minutes:  (1450.0416666666667, 34801.0, 2088060.0)\n",
      "full overlap in seconds:  0.0\n",
      "full overlap / max duration:  0.0\n"
     ]
    },
    {
     "data": {
      "image/png": "[encoded data removed]",
      "text/plain": [
       "<matplotlib.figure.Figure at 0x12ce4df60>"
      ]
     },
     "metadata": {},
     "output_type": "display_data"
    },
    {
     "name": "stdout",
     "output_type": "stream",
     "text": [
      "\n",
      "\n",
      "\n",
      "\n"
     ]
    }
   ],
   "source": [
    "intersections_summary = get_full_summary()\n"
   ]
  },
  {
   "cell_type": "code",
   "execution_count": 10,
   "metadata": {},
   "outputs": [],
   "source": [
    "def eject_after_longest_const(values):\n",
    "    num_equals = 0\n",
    "    \n",
    "    highest_num_equals = -1\n",
    "    ans = -1\n",
    "    \n",
    "    for i in range(1, len(values)):\n",
    "        if values[i] == values[i - 1]:\n",
    "            num_equals += 1\n",
    "            if num_equals > highest_num_equals:\n",
    "                highest_num_equals = num_equals\n",
    "                ans = i\n",
    "        else:\n",
    "            num_equals = 0\n",
    "    return ans"
   ]
  },
  {
   "cell_type": "code",
   "execution_count": 11,
   "metadata": {},
   "outputs": [],
   "source": [
    "def eject_at_rapid_change(values, left_board, right_board, ratio = 0.1):\n",
    "    full_delta = values[left_board] - values[right_board]\n",
    "    for i in range(left_board, right_board):\n",
    "        if values[i] - values[i + 1] > ratio * full_delta:\n",
    "            return i"
   ]
  },
  {
   "cell_type": "code",
   "execution_count": 12,
   "metadata": {},
   "outputs": [
    {
     "name": "stdout",
     "output_type": "stream",
     "text": [
      "182\n"
     ]
    },
    {
     "data": {
      "image/png": "[encoded data removed]",
      "text/plain": [
       "<matplotlib.figure.Figure at 0x12a6c9438>"
      ]
     },
     "metadata": {},
     "output_type": "display_data"
    },
    {
     "name": "stdout",
     "output_type": "stream",
     "text": [
      "182\n"
     ]
    },
    {
     "data": {
      "image/png": "[encoded data removed]",
      "text/plain": [
       "<matplotlib.figure.Figure at 0x12d2b6c18>"
      ]
     },
     "metadata": {},
     "output_type": "display_data"
    },
    {
     "name": "stdout",
     "output_type": "stream",
     "text": [
      "180\n"
     ]
    },
    {
     "data": {
      "image/png": "[encoded data removed]",
      "text/plain": [
       "<matplotlib.figure.Figure at 0x12d319a20>"
      ]
     },
     "metadata": {},
     "output_type": "display_data"
    },
    {
     "name": "stdout",
     "output_type": "stream",
     "text": [
      "176\n"
     ]
    },
    {
     "data": {
      "image/png": "[encoded data removed]",
      "text/plain": [
       "<matplotlib.figure.Figure at 0x12d850978>"
      ]
     },
     "metadata": {},
     "output_type": "display_data"
    }
   ],
   "source": [
    "best_indices = {}\n",
    "for datas_type in ['oneMin', 'fiveMin', 'thirtyMin', 'hour']:\n",
    "    #best_index = eject_after_longest_const(intersections_summary[datas_type][0])\n",
    "    #print(intersections_summary[datas_type][0][182])\n",
    "    #print(intersections_summary[datas_type][0][183])\n",
    "    indices_grid = list(range(len(intersections_summary[datas_type][0])))\n",
    "    index = eject_at_rapid_change(intersections_summary[datas_type][0], 170, 190)\n",
    "    print(index)\n",
    "    '''print(len(intersections_summary[datas_type][1][183]))\n",
    "    print(len(intersections_summary[datas_type][1][184]))'''\n",
    "    plt.figure(figsize = (10, 10))\n",
    "    plt.plot(indices_grid, intersections_summary[datas_type][0])\n",
    "    plt.axvline(x=index, color = 'red')\n",
    "    plt.axhline(y = intersections_summary[datas_type][0][index], color = 'red')\n",
    "    plt.show()\n",
    "    best_indices[datas_type] = index"
   ]
  },
  {
   "cell_type": "code",
   "execution_count": 19,
   "metadata": {},
   "outputs": [
    {
     "name": "stdout",
     "output_type": "stream",
     "text": [
      "{'oneMin': 182, 'fiveMin': 182, 'thirtyMin': 180, 'hour': 176}\n",
      "{'oneMin': 60, 'fiveMin': 300, 'thirtyMin': 1800, 'hour': 3600, 'day': 86400}\n"
     ]
    }
   ],
   "source": [
    "deltas = {'oneMin' : 60, 'fiveMin' : 5 * 60, 'thirtyMin' : 30 * 60, 'hour' : 60 * 60, 'day' : 24 * 60 * 60}\n",
    "print(best_indices)\n",
    "print(deltas)"
   ]
  },
  {
   "cell_type": "code",
   "execution_count": 14,
   "metadata": {},
   "outputs": [],
   "source": [
    "def merge(datas):\n",
    "    \n",
    "    \n",
    "    for key in datas.keys():\n",
    "        needful_columns = ['O', 'C', 'L', 'H', 'timestamp']\n",
    "        datas[key] = datas[key][needful_columns]\n",
    "        \n",
    "    for key in datas.keys():\n",
    "        datas[key] = datas[key].rename(index = str, columns = {'O' : key + '__O', \n",
    "                                              'C' : key + '__C',\n",
    "                                              'L' : key + '__L',\n",
    "                                              'H' : key + '__H'})\n",
    "    ordered_keys = list(datas.keys())\n",
    "    result = datas[ordered_keys[0]]\n",
    "    for i in range(1, len(ordered_keys)):\n",
    "        result = pandas.merge(result, datas[ordered_keys[i]], on = 'timestamp')\n",
    "    return result\n",
    "\n",
    "def create_filtered_dataset(datas, chosen_set):\n",
    "    filtered_datas = {}\n",
    "    for element in chosen_set:\n",
    "        filtered_datas[element] = datas[element]\n",
    "    \n",
    "    min_start, max_start, min_end, max_end, min_duration, max_duration =\\\n",
    "                    get_duration_info(filtered_datas)\n",
    "    \n",
    "    #print(max_start)\n",
    "    #print(min_end)\n",
    "    #print((min_end.timestamp() - max_start.timestamp()) / 60.0)\n",
    "    result = merge(filtered_datas)\n",
    "    result = result.sort_values(by = 'timestamp')\n",
    "    all_columns_except_timestamp = [column for column in result.columns if column != 'timestamp']\n",
    "    rearranged_columns = ['timestamp'] + all_columns_except_timestamp\n",
    "    result = result[rearranged_columns]\n",
    "    \n",
    "    return result\n",
    "\n",
    "def create_full_dataset(datas, delta):\n",
    "    min_start, max_start, min_end, max_end, min_duration, max_duration =\\\n",
    "                    get_duration_info(datas)\n",
    "    elongated_datas = {}\n",
    "    for key in datas.keys():\n",
    "        elongated_datas[key] = add_missing(datas[key], delta, [int(min_start.timestamp()), int(max_end.timestamp())])\n",
    "    \n",
    "    result = merge(elongated_datas)\n",
    "    result = result.sort_values(by = 'timestamp')\n",
    "    all_columns_except_timestamp = [column for column in result.columns if column != 'timestamp']\n",
    "    rearranged_columns = ['timestamp'] + all_columns_except_timestamp\n",
    "    result = result[rearranged_columns]\n",
    "    \n",
    "    return result\n",
    "\n",
    "    "
   ]
  },
  {
   "cell_type": "code",
   "execution_count": 15,
   "metadata": {},
   "outputs": [
    {
     "name": "stderr",
     "output_type": "stream",
     "text": [
      "\r",
      "  0%|          | 0/199 [00:00<?, ?it/s]"
     ]
    },
    {
     "name": "stdout",
     "output_type": "stream",
     "text": [
      "reading  oneMin\n"
     ]
    },
    {
     "name": "stderr",
     "output_type": "stream",
     "text": [
      "100%|██████████| 199/199 [26:23<00:00,  7.96s/it] \n"
     ]
    },
    {
     "name": "stdout",
     "output_type": "stream",
     "text": [
      "oneMin : (71800, 733) 49.861111111111114\n"
     ]
    },
    {
     "name": "stderr",
     "output_type": "stream",
     "text": [
      "\r",
      "  0%|          | 0/199 [00:00<?, ?it/s]"
     ]
    },
    {
     "name": "stdout",
     "output_type": "stream",
     "text": [
      "reading  fiveMin\n"
     ]
    },
    {
     "name": "stderr",
     "output_type": "stream",
     "text": [
      "100%|██████████| 199/199 [02:37<00:00,  1.27it/s]\n"
     ]
    },
    {
     "name": "stdout",
     "output_type": "stream",
     "text": [
      "fiveMin : (17240, 733) 59.861111111111114\n"
     ]
    },
    {
     "name": "stderr",
     "output_type": "stream",
     "text": [
      "  1%|          | 1/199 [00:00<00:26,  7.44it/s]"
     ]
    },
    {
     "name": "stdout",
     "output_type": "stream",
     "text": [
      "reading  thirtyMin\n"
     ]
    },
    {
     "name": "stderr",
     "output_type": "stream",
     "text": [
      "100%|██████████| 199/199 [00:25<00:00,  7.71it/s]\n"
     ]
    },
    {
     "name": "stdout",
     "output_type": "stream",
     "text": [
      "thirtyMin : (3834, 725) 79.875\n"
     ]
    },
    {
     "name": "stderr",
     "output_type": "stream",
     "text": [
      "  1%|          | 2/199 [00:00<00:16, 12.02it/s]"
     ]
    },
    {
     "name": "stdout",
     "output_type": "stream",
     "text": [
      "reading  hour\n"
     ]
    },
    {
     "name": "stderr",
     "output_type": "stream",
     "text": [
      "100%|██████████| 199/199 [00:16<00:00, 11.91it/s]\n"
     ]
    },
    {
     "name": "stdout",
     "output_type": "stream",
     "text": [
      "hour : (2397, 709) 99.875\n"
     ]
    }
   ],
   "source": [
    "for key in best_indices.keys():\n",
    "#for key in ['thirtyMin']:\n",
    "    datas_type = key\n",
    "    delta = deltas[key]\n",
    "    datas = read_datas(datas_type, delta, process = True)\n",
    "    chosen_set = intersections_summary[datas_type][1][best_indices[datas_type]]\n",
    "    result = create_filtered_dataset(datas, chosen_set)\n",
    "    print(datas_type + ' : ' + str(result.shape), result.shape[0] * float(delta) / (60 * 60 * 24.0))\n",
    "    \n",
    "    result.to_csv(\"prepared_shad_datasets/biggest_intersection/\" + datas_type + '.csv', index = 'False')"
   ]
  },
  {
   "cell_type": "code",
   "execution_count": 20,
   "metadata": {},
   "outputs": [
    {
     "name": "stderr",
     "output_type": "stream",
     "text": [
      "  1%|          | 1/199 [00:00<00:27,  7.13it/s]"
     ]
    },
    {
     "name": "stdout",
     "output_type": "stream",
     "text": [
      "reading  hour\n"
     ]
    },
    {
     "name": "stderr",
     "output_type": "stream",
     "text": [
      "100%|██████████| 199/199 [00:17<00:00, 11.67it/s]\n"
     ]
    },
    {
     "name": "stdout",
     "output_type": "stream",
     "text": [
      "hour : (2719, 797) 113.29166666666667\n"
     ]
    },
    {
     "name": "stderr",
     "output_type": "stream",
     "text": [
      "  3%|▎         | 5/199 [00:00<00:04, 46.74it/s]"
     ]
    },
    {
     "name": "stdout",
     "output_type": "stream",
     "text": [
      "reading  day\n"
     ]
    },
    {
     "name": "stderr",
     "output_type": "stream",
     "text": [
      "100%|██████████| 199/199 [00:07<00:00, 27.39it/s]\n",
      "  0%|          | 0/199 [00:00<?, ?it/s]"
     ]
    },
    {
     "name": "stdout",
     "output_type": "stream",
     "text": [
      "day : (1452, 797) 1452.0\n",
      "reading  thirtyMin\n"
     ]
    },
    {
     "name": "stderr",
     "output_type": "stream",
     "text": [
      "100%|██████████| 199/199 [00:25<00:00,  7.75it/s]\n"
     ]
    },
    {
     "name": "stdout",
     "output_type": "stream",
     "text": [
      "thirtyMin : (4244, 797) 88.41666666666667\n"
     ]
    },
    {
     "name": "stderr",
     "output_type": "stream",
     "text": [
      "\r",
      "  0%|          | 0/199 [00:00<?, ?it/s]"
     ]
    },
    {
     "name": "stdout",
     "output_type": "stream",
     "text": [
      "reading  fiveMin\n"
     ]
    },
    {
     "name": "stderr",
     "output_type": "stream",
     "text": [
      "100%|██████████| 199/199 [02:29<00:00,  1.33it/s]\n"
     ]
    },
    {
     "name": "stdout",
     "output_type": "stream",
     "text": [
      "fiveMin : (19822, 797) 68.82638888888889\n"
     ]
    },
    {
     "name": "stderr",
     "output_type": "stream",
     "text": [
      "\r",
      "  0%|          | 0/199 [00:00<?, ?it/s]"
     ]
    },
    {
     "name": "stdout",
     "output_type": "stream",
     "text": [
      "reading  oneMin\n"
     ]
    },
    {
     "name": "stderr",
     "output_type": "stream",
     "text": [
      "100%|██████████| 199/199 [15:22<00:00,  4.64s/it]\n"
     ]
    },
    {
     "name": "stdout",
     "output_type": "stream",
     "text": [
      "oneMin : (81037, 797) 56.27569444444445\n"
     ]
    }
   ],
   "source": [
    "for key in ['oneMin', 'fiveMin', 'thirtyMin', 'day', 'hour', ][::-1]:\n",
    "#for key in ['thirtyMin']:\n",
    "    datas_type = key\n",
    "    delta = deltas[key]\n",
    "    datas = read_datas(datas_type, delta, process = True)\n",
    "    result = create_full_dataset(datas, delta)\n",
    "    print(datas_type + ' : ' + str(result.shape), result.shape[0] * float(delta) / (60 * 60 * 24.0))\n",
    "    result.to_csv(\"prepared_shad_datasets/all/\" + datas_type + '.csv', index = 'False')"
   ]
  },
  {
   "cell_type": "code",
   "execution_count": 21,
   "metadata": {},
   "outputs": [
    {
     "name": "stdout",
     "output_type": "stream",
     "text": [
      "FINISHED\n"
     ]
    }
   ],
   "source": [
    "print(\"FINISHED\")"
   ]
  },
  {
   "cell_type": "code",
   "execution_count": null,
   "metadata": {},
   "outputs": [],
   "source": []
  }
 ],
 "metadata": {
  "kernelspec": {
   "display_name": "Python 3",
   "language": "python",
   "name": "python3"
  },
  "language_info": {
   "codemirror_mode": {
    "name": "ipython",
    "version": 3
   },
   "file_extension": ".py",
   "mimetype": "text/x-python",
   "name": "python",
   "nbconvert_exporter": "python",
   "pygments_lexer": "ipython3",
   "version": "3.6.3"
  }
 },
 "nbformat": 4,
 "nbformat_minor": 2
}
