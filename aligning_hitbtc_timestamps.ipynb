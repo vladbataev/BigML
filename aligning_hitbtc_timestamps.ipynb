{
 "cells": [
  {
   "cell_type": "code",
   "execution_count": 19,
   "metadata": {
    "collapsed": true,
    "deletable": true,
    "editable": true
   },
   "outputs": [],
   "source": [
    "import pandas"
   ]
  },
  {
   "cell_type": "code",
   "execution_count": 20,
   "metadata": {
    "collapsed": false,
    "deletable": true,
    "editable": true
   },
   "outputs": [],
   "source": [
    "data = pandas.read_csv('data.csv')"
   ]
  },
  {
   "cell_type": "code",
   "execution_count": 21,
   "metadata": {
    "collapsed": true,
    "deletable": true,
    "editable": true
   },
   "outputs": [],
   "source": [
    "def get_interpolated(values, times, start, end, step, delta):\n",
    "    current = []\n",
    "    current_position = 0\n",
    "    time_now = start\n",
    "    result_values = []\n",
    "    result_times = []\n",
    "    while time_now <= end:\n",
    "        while (current_position + 1 < times.shape[0]) and (times[current_position + 1] <= time_now):\n",
    "            current_position = current_position + 1\n",
    "            \n",
    "        if current_position  + 1 == times.shape[0]:\n",
    "            result_times.append(int(time_now))\n",
    "            result_values.append('')\n",
    "        else:\n",
    "            delta_left = abs(times[current_position] - time_now)\n",
    "            delta_right = abs(times[current_position + 1] - time_now)\n",
    "            if delta_left > delta or delta_right > delta:\n",
    "                result_times.append(int(time_now))\n",
    "                result_values.append('')\n",
    "            else:\n",
    "                value_left = values[current_position]\n",
    "                value_right = values[current_position + 1]\n",
    "                value_interpolated = (value_left * delta_right + value_right * delta_left) / \\\n",
    "                                    (delta_left + delta_right)\n",
    "                result_times.append(int(time_now))\n",
    "                result_values.append(value_interpolated)\n",
    "        time_now += step\n",
    "    return result_times, result_values"
   ]
  },
  {
   "cell_type": "code",
   "execution_count": 22,
   "metadata": {
    "collapsed": true,
    "deletable": true,
    "editable": true
   },
   "outputs": [],
   "source": [
    "def is_correct_market(name, market):\n",
    "    splitted = name.split('_')\n",
    "    if len(splitted) != 2:\n",
    "        return False\n",
    "    return splitted[0][-3:] == market\n",
    "    "
   ]
  },
  {
   "cell_type": "code",
   "execution_count": 23,
   "metadata": {
    "collapsed": true,
    "deletable": true,
    "editable": true
   },
   "outputs": [],
   "source": [
    "def extract_currencies(columns):\n",
    "    result = []\n",
    "    for column in columns:\n",
    "        first = column.split('_')[0]\n",
    "        currency_now = first[0:len(first) - 3]\n",
    "        result.append(currency_now)\n",
    "    return list(set(result))"
   ]
  },
  {
   "cell_type": "code",
   "execution_count": 24,
   "metadata": {
    "collapsed": true,
    "deletable": true,
    "editable": true
   },
   "outputs": [],
   "source": [
    "import numpy as np\n",
    "import tqdm\n",
    "def extract_data(data, step, delta, market):\n",
    "    correct_columns = [column for column in data.columns if is_correct_market(column, market)]\n",
    "    currencies  = extract_currencies(correct_columns)\n",
    "    \n",
    "    mins, maxs = [], []\n",
    "    for currency in currencies:\n",
    "        timestamps_now = data[currency + market + '_timestamp'].as_matrix()\n",
    "        min_now = np.min(timestamps_now)\n",
    "        max_now = np.max(timestamps_now)\n",
    "        mins.append(min_now)\n",
    "        maxs.append(max_now)\n",
    "\n",
    "    min_time = np.min(mins)\n",
    "    max_time = np.max(maxs)\n",
    "    \n",
    "    result = {}\n",
    "    for currency in tqdm.tqdm(currencies):\n",
    "        asks_now = data[currency + market + '_ask'].as_matrix()\n",
    "        bids_now = data[currency + market + '_bid'].as_matrix()\n",
    "        timestamps_now = data[currency + market + '_timestamp'].as_matrix()\n",
    "        asks_prepared_now = get_interpolated(asks_now, timestamps_now, min_time, max_time, step, delta)\n",
    "        bids_prepared_now = get_interpolated(bids_now, timestamps_now, min_time, max_time, step, delta)\n",
    "        \n",
    "        times = asks_prepared_now[0]\n",
    "        asks = asks_prepared_now[1]\n",
    "        bids = bids_prepared_now[1]\n",
    "        \n",
    "        result['timestamps'] = np.asarray(times) / 1000.0\n",
    "        result[currency + '_asks'] = asks\n",
    "        result[currency + '_bids'] = bids\n",
    "    result = pandas.DataFrame(result)\n",
    "    columns_except_timestamps = [column for column in result.columns if column != 'timestamps']\n",
    "    result = result[['timestamps'] + columns_except_timestamps]\n",
    "    return result\n",
    "        "
   ]
  },
  {
   "cell_type": "code",
   "execution_count": 28,
   "metadata": {
    "collapsed": true,
    "deletable": true,
    "editable": true
   },
   "outputs": [],
   "source": [
    "def extract_all(data):\n",
    "    extracts = []\n",
    "    result = None\n",
    "    for market in ['BTC', 'USD', 'ETH']:\n",
    "        data_extracted = extract_data(data, 100.0 * 1000, 5.0 * 1000, market)\n",
    "        data_extracted.to_csv(\"data_extracted_\" + market + '.csv', sep = ';', index = False)\n",
    "        #print(data_extracted.shape)\n",
    "        #print(data_extracted.head())\n",
    "        if result is None:\n",
    "            result = data_extracted\n",
    "            renaming = {}\n",
    "            for column in result.columns:\n",
    "                if column != 'timestamps':\n",
    "                    renaming[column] = column + '__' + market\n",
    "            #print(renaming)\n",
    "            result = result.rename(columns = renaming)\n",
    "            #print(result.columns)\n",
    "        else:\n",
    "            renaming = {}\n",
    "            for column in data_extracted.columns:\n",
    "                if column != 'timestamps':\n",
    "                    renaming[column] = column + '__' + market\n",
    "            data_extracted = data_extracted.rename(columns = renaming)\n",
    "            result = result.join(data_extracted.set_index('timestamps'), on = 'timestamps')\n",
    "            #print(result.columns)\n",
    "    #print(result[0].columns)\n",
    "    #result = pandas.concat(result, axis = 'timestamps')\n",
    "    #print(result.columns)\n",
    "    result.to_csv(\"data_extracted_joint.csv\", sep = ';', index = False)\n",
    "    #print(result.head())\n",
    "    #print(result.shape)\n",
    "    "
   ]
  },
  {
   "cell_type": "code",
   "execution_count": 29,
   "metadata": {
    "collapsed": false,
    "deletable": true,
    "editable": true
   },
   "outputs": [
    {
     "name": "stderr",
     "output_type": "stream",
     "text": [
      "100%|██████████| 7/7 [02:00<00:00, 17.72s/it]\n",
      "100%|██████████| 7/7 [02:04<00:00, 17.84s/it]\n",
      "100%|██████████| 6/6 [01:45<00:00, 17.47s/it]\n"
     ]
    }
   ],
   "source": [
    "extract_all(data)"
   ]
  },
  {
   "cell_type": "code",
   "execution_count": null,
   "metadata": {
    "collapsed": true,
    "deletable": true,
    "editable": true
   },
   "outputs": [],
   "source": []
  }
 ],
 "metadata": {
  "kernelspec": {
   "display_name": "Python 3",
   "language": "python",
   "name": "python3"
  },
  "language_info": {
   "codemirror_mode": {
    "name": "ipython",
    "version": 3
   },
   "file_extension": ".py",
   "mimetype": "text/x-python",
   "name": "python",
   "nbconvert_exporter": "python",
   "pygments_lexer": "ipython3",
   "version": "3.5.2"
  }
 },
 "nbformat": 4,
 "nbformat_minor": 2
}
