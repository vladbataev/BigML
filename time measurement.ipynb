{
 "cells": [
  {
   "cell_type": "code",
   "execution_count": 1,
   "metadata": {},
   "outputs": [],
   "source": [
    "import pandas as pd\n",
    "import numpy as np\n",
    "from sklearn.linear_model import LinearRegression\n",
    "from matplotlib import pyplot as plt\n",
    "import math\n",
    "import os"
   ]
  },
  {
   "cell_type": "code",
   "execution_count": 2,
   "metadata": {},
   "outputs": [],
   "source": [
    "hitbtc_dataset = pd.read_csv('data_extracted_joint.csv', sep = ';')"
   ]
  },
  {
   "cell_type": "code",
   "execution_count": 3,
   "metadata": {},
   "outputs": [],
   "source": [
    "def put_timestamps_to_first(dataset):\n",
    "    rearranged_columns = ['timestamps'] + [column for column in dataset.columns if column != 'timestamps']\n",
    "    return dataset[rearranged_columns]\n",
    "\n",
    "def average_asks_and_bids(dataset):\n",
    "    columns = dataset.columns\n",
    "    result = {}\n",
    "    for column in dataset.columns:\n",
    "        if column == 'timestamps':\n",
    "            result[column] = dataset[column].as_matrix()\n",
    "        else:\n",
    "            if 'asks' in column:\n",
    "                before_asks, after_asks = column.split('asks')\n",
    "                for column in dataset.columns:\n",
    "                    if column != 'timestamps' and 'bids' in column:\n",
    "                        before_bids, after_bids = column.split('bids')\n",
    "                        if before_bids == before_asks and after_bids == after_asks:\n",
    "                            second_column = column\n",
    "                            break\n",
    "                average_values = 0.5 * (dataset[column] + dataset[second_column])\n",
    "                result[before_asks + after_asks] = average_values\n",
    "    return put_timestamps_to_first(pd.DataFrame(result))            "
   ]
  },
  {
   "cell_type": "code",
   "execution_count": 4,
   "metadata": {},
   "outputs": [],
   "source": [
    "average_dataset = average_asks_and_bids(hitbtc_dataset)"
   ]
  },
  {
   "cell_type": "code",
   "execution_count": 5,
   "metadata": {},
   "outputs": [],
   "source": [
    "\n",
    "def launch(dir_for_tmp_files, dataset, id, num_to_test = 50, steps = 100, verbose = False, eval = False,\\\n",
    "          eta = 1, lambdaX = 1, lambdaW = 1, lambdaF = 1, standardize = True, lat_dim = 2,\\\n",
    "           lags = [1, 5, 10, 20, 25, 100]):\n",
    "    \n",
    "    name = dir_for_tmp_files + '/' + 'current_launch' + str(id) + '.csv'\n",
    "    dataset.to_csv(name, sep = ';', index = False)\n",
    "    if 'timestamps' in dataset.columns:\n",
    "        timestamps = dataset['timestamps'].as_matrix()\n",
    "    else:\n",
    "        timestamps = dataset['timestamp'].as_matrix()\n",
    "    \n",
    "    #train_start = math.ceil(timestamps[1])\n",
    "    #train_end = math.floor(timestamps[timestamps.shape[0] -num_to_test - 1])\n",
    "    #test_start = math.ceil(timestamps[timestamps.shape[0] -num_to_test])\n",
    "    #test_end = math.floor(timestamps[-2])\n",
    "    \n",
    "    #train_start = 1513357140\n",
    "    train_start = math.ceil(timestamps[0])\n",
    "    #train_end = 1517653140\n",
    "    train_end =  math.floor(timestamps[-num_to_test])\n",
    "    #test_start = 1517653260\n",
    "    test_start = math.ceil(timestamps[-num_to_test])\n",
    "    test_end = math.floor(timestamps[-1])\n",
    "    command = \"./main --dataset_path \" + name + \" --separator ';'\"\n",
    "    command += ' --train_start ' + str(train_start)\n",
    "    command += ' --train_end ' + str(train_end)\n",
    "    command += ' --test_start ' + str(test_start)\n",
    "    command += ' --test_end ' + str(test_end)\n",
    "    command += ' --steps ' + str(steps)\n",
    "    \n",
    "    if verbose:\n",
    "        command += ' --verbose 1'\n",
    "    else:\n",
    "        command += ' --verbose 0'\n",
    "    \n",
    "    if eval:\n",
    "        command += ' --eval 1'\n",
    "    else:\n",
    "        command += ' --eval 0'\n",
    "    \n",
    "    command += ' --predictions_out ' + dir_for_tmp_files + '/predictions_' + str(id) + '.csv'\n",
    "    command += ' --eta ' + str(eta)\n",
    "    command += ' --lambdaX ' + str(lambdaX)\n",
    "    command += ' --lambdaW ' + str(lambdaW)\n",
    "    command += ' --lambdaF ' + str(lambdaF)\n",
    "    \n",
    "    if standardize:\n",
    "        command += ' --standardize 1'\n",
    "    else:\n",
    "        command += ' --standardize 0'\n",
    "    \n",
    "    command += ' --lags '\n",
    "    for lag in lags:\n",
    "        command += str(lag) + ' '\n",
    "    \n",
    "    command += ' --lat_dim ' + str(lat_dim)\n",
    "    command += ' --factor_out ' + dir_for_tmp_files + '/factor_out_' + str(id)\n",
    "    logs_file_name = 'logs_file_' + str(id)\n",
    "    command += ' --logs_file ' + dir_for_tmp_files + '/' + logs_file_name\n",
    "    #print(command)\n",
    "    os.system(command)\n",
    "    \n",
    "    with open(dir_for_tmp_files + '/' + logs_file_name, 'r') as f:\n",
    "        logs = [line for line in f]   \n",
    "    \n",
    "    return logs"
   ]
  },
  {
   "cell_type": "code",
   "execution_count": 6,
   "metadata": {},
   "outputs": [],
   "source": [
    "import time\n",
    "def measure_time(dir_for_tmp_files, dataset, id, *args, **kwargs):\n",
    "    begin = time.time()\n",
    "    _ = launch(dir_for_tmp_files, dataset, id, *args, **kwargs)\n",
    "    end = time.time()\n",
    "    return end - begin"
   ]
  },
  {
   "cell_type": "code",
   "execution_count": 7,
   "metadata": {},
   "outputs": [
    {
     "data": {
      "text/plain": [
       "21.075249433517456"
      ]
     },
     "execution_count": 7,
     "metadata": {},
     "output_type": "execute_result"
    }
   ],
   "source": [
    "measure_time('tmp', average_dataset, 1, verbose = True, steps = 1, eta = 0.01, lambdaX = 10000, \\\n",
    "              lambdaW = 1000, lambdaF = 0.01, eval = 1)"
   ]
  },
  {
   "cell_type": "code",
   "execution_count": 8,
   "metadata": {},
   "outputs": [],
   "source": [
    "from multiprocessing import Pool, cpu_count\n",
    "import tqdm\n",
    "import copy\n",
    "def handler(task):\n",
    "    dir_for_tmp_files, dataset, id, kwargs = task\n",
    "    return measure_time(dir_for_tmp_files, dataset, id, **kwargs)\n",
    "\n",
    "def measure_times(dir_for_tmp_files, dataset, id, steps_set, **kwargs):\n",
    "    tasks = []\n",
    "    for steps in steps_set:\n",
    "        all_kwargs = copy.deepcopy(kwargs)\n",
    "        all_kwargs['steps'] = steps\n",
    "        tasks.append([dir_for_tmp_files, dataset, str(id) + '___' + str(steps), all_kwargs])\n",
    "    \n",
    "    p = Pool(cpu_count())\n",
    "    times = []\n",
    "    for time in tqdm.tqdm_notebook(p.imap(handler, tasks)):\n",
    "        times.append(time)    \n",
    "    return times"
   ]
  },
  {
   "cell_type": "code",
   "execution_count": 9,
   "metadata": {},
   "outputs": [
    {
     "data": {
      "application/vnd.jupyter.widget-view+json": {
       "model_id": "37f0e257fce34cca954f4ff829c0d8f8",
       "version_major": 2,
       "version_minor": 0
      },
      "text/plain": [
       "HBox(children=(IntProgress(value=1, bar_style='info', max=1), HTML(value='')))"
      ]
     },
     "metadata": {},
     "output_type": "display_data"
    },
    {
     "name": "stdout",
     "output_type": "stream",
     "text": [
      "\n"
     ]
    }
   ],
   "source": [
    "num_steps = [i + 1 for i in range(10)]\n",
    "times = measure_times('tmp', average_dataset, 1, num_steps,  verbose = True, eta = 0.01, lambdaX = 10000, \\\n",
    "              lambdaW = 1000, lambdaF = 0.01, eval = 1)"
   ]
  },
  {
   "cell_type": "code",
   "execution_count": 10,
   "metadata": {},
   "outputs": [],
   "source": [
    "num_steps = [0] + num_steps\n",
    "times = [0.0] + times"
   ]
  },
  {
   "cell_type": "code",
   "execution_count": 11,
   "metadata": {},
   "outputs": [],
   "source": [
    "num_steps = np.asarray(num_steps)\n",
    "times = np.asarray(times)"
   ]
  },
  {
   "cell_type": "code",
   "execution_count": 12,
   "metadata": {},
   "outputs": [
    {
     "data": {
      "image/png": "[encoded data removed]",
      "text/plain": [
       "<Figure size 432x288 with 1 Axes>"
      ]
     },
     "metadata": {},
     "output_type": "display_data"
    }
   ],
   "source": [
    "plt.plot(num_steps, times, 'o')\n",
    "plt.show()\n",
    "plt.show()"
   ]
  },
  {
   "cell_type": "code",
   "execution_count": 13,
   "metadata": {},
   "outputs": [
    {
     "name": "stdout",
     "output_type": "stream",
     "text": [
      "19.452951139873928\n",
      "21.01751971244812\n"
     ]
    }
   ],
   "source": [
    "print((times[10] - times[1]) / 9.0)\n",
    "print(times[1] - times[0])"
   ]
  },
  {
   "cell_type": "code",
   "execution_count": 14,
   "metadata": {},
   "outputs": [],
   "source": [
    "def measure_iteration_time(dir_for_tmp_files, dataset, id, *args, **kwargs):\n",
    "    NUM_ITERATIONS = 5\n",
    "    begin = time.time()\n",
    "    all_kwargs = copy.deepcopy(kwargs)\n",
    "    all_kwargs['steps'] = 1\n",
    "    _ = launch(dir_for_tmp_files, dataset, str(id) + '__' + 'first', *args, **all_kwargs)\n",
    "    end = time.time()\n",
    "    first_time = end - begin\n",
    "    \n",
    "    begin = time.time()\n",
    "    all_kwargs = copy.deepcopy(kwargs)\n",
    "    all_kwargs['steps'] = NUM_ITERATIONS\n",
    "    _ = launch(dir_for_tmp_files, dataset, str(id) + '__' + 'second', *args, **all_kwargs)\n",
    "    end = time.time()\n",
    "    second_time = end - begin\n",
    "    \n",
    "    return (second_time - first_time) / (NUM_ITERATIONS - 1)  "
   ]
  },
  {
   "cell_type": "code",
   "execution_count": 15,
   "metadata": {},
   "outputs": [
    {
     "data": {
      "text/plain": [
       "18.96048605442047"
      ]
     },
     "execution_count": 15,
     "metadata": {},
     "output_type": "execute_result"
    }
   ],
   "source": [
    "measure_iteration_time('tmp', average_dataset, 1, verbose = True, eta = 0.01, lambdaX = 10000, \\\n",
    "              lambdaW = 1000, lambdaF = 0.01, eval = 1)"
   ]
  },
  {
   "cell_type": "code",
   "execution_count": 16,
   "metadata": {},
   "outputs": [],
   "source": [
    "def handler(task):\n",
    "    dir_for_tmp_files, dataset, id, kwargs = task\n",
    "    return measure_iteration_time(dir_for_tmp_files, dataset, id, **kwargs)\n",
    "\n",
    "\n",
    "def measure_T_time_dependence(dir_for_tmp_files, dataset, id, lengths_set, **kwargs):\n",
    "    tasks = []\n",
    "    for length in lengths_set:\n",
    "        tasks.append([dir_for_tmp_files, dataset[0:length], str(id) + '___' + str(length), kwargs])\n",
    "    \n",
    "    p = Pool(cpu_count())\n",
    "    times = []\n",
    "    for time in tqdm.tqdm_notebook(p.imap(handler, tasks)):\n",
    "        times.append(time)\n",
    "    return times"
   ]
  },
  {
   "cell_type": "code",
   "execution_count": 17,
   "metadata": {},
   "outputs": [
    {
     "name": "stdout",
     "output_type": "stream",
     "text": [
      "(38574, 21)\n"
     ]
    }
   ],
   "source": [
    "print(average_dataset.shape)"
   ]
  },
  {
   "cell_type": "code",
   "execution_count": 18,
   "metadata": {},
   "outputs": [
    {
     "data": {
      "application/vnd.jupyter.widget-view+json": {
       "model_id": "821dff28abac46638021e2422e2c34cf",
       "version_major": 2,
       "version_minor": 0
      },
      "text/plain": [
       "HBox(children=(IntProgress(value=1, bar_style='info', max=1), HTML(value='')))"
      ]
     },
     "metadata": {},
     "output_type": "display_data"
    },
    {
     "name": "stdout",
     "output_type": "stream",
     "text": [
      "\n"
     ]
    }
   ],
   "source": [
    "lengths_set = [4000 * (i + 1) for i in range(10)]\n",
    "times = measure_T_time_dependence('tmp', average_dataset, 1, lengths_set, verbose = False, eta = 0.01, lambdaX = 10000, \\\n",
    "              lambdaW = 1000, lambdaF = 0.01, eval = 1)"
   ]
  },
  {
   "cell_type": "code",
   "execution_count": 19,
   "metadata": {},
   "outputs": [
    {
     "data": {
      "image/png": "[encoded data removed]",
      "text/plain": [
       "<Figure size 432x288 with 1 Axes>"
      ]
     },
     "metadata": {},
     "output_type": "display_data"
    }
   ],
   "source": [
    "plt.plot(lengths_set, times, 'o')\n",
    "plt.show()"
   ]
  },
  {
   "cell_type": "code",
   "execution_count": 20,
   "metadata": {},
   "outputs": [],
   "source": [
    "def handler(task):\n",
    "    dir_for_tmp_files, dataset, id, kwargs = task\n",
    "    return measure_iteration_time(dir_for_tmp_files, dataset, id, **kwargs)\n",
    "\n",
    "\n",
    "def measure_lat_dim_time_dependence(dir_for_tmp_files, dataset, id, lat_dim_set, **kwargs):\n",
    "    tasks = []\n",
    "    for lat_dim in lat_dim_set:\n",
    "        all_kwargs = copy.deepcopy(kwargs)\n",
    "        all_kwargs['lat_dim'] = lat_dim\n",
    "        tasks.append([dir_for_tmp_files, dataset, str(id) + '___' + str(lat_dim), all_kwargs])\n",
    "    \n",
    "    p = Pool(cpu_count())\n",
    "    times = []\n",
    "    for time in tqdm.tqdm_notebook(p.imap(handler, tasks)):\n",
    "        times.append(time)\n",
    "    return times"
   ]
  },
  {
   "cell_type": "code",
   "execution_count": 21,
   "metadata": {},
   "outputs": [
    {
     "data": {
      "application/vnd.jupyter.widget-view+json": {
       "model_id": "ec7169d011da42a1afe88e530f445d2b",
       "version_major": 2,
       "version_minor": 0
      },
      "text/plain": [
       "HBox(children=(IntProgress(value=1, bar_style='info', max=1), HTML(value='')))"
      ]
     },
     "metadata": {},
     "output_type": "display_data"
    },
    {
     "name": "stdout",
     "output_type": "stream",
     "text": [
      "\n"
     ]
    }
   ],
   "source": [
    "lat_dim_set = [2, 4, 6, 10, 15]\n",
    "times = measure_lat_dim_time_dependence('tmp', average_dataset[0:1000], 1, lat_dim_set, verbose = False, eta = 0.01, lambdaX = 10000, \\\n",
    "              lambdaW = 1000, lambdaF = 0.01, eval = 1)"
   ]
  },
  {
   "cell_type": "code",
   "execution_count": 22,
   "metadata": {},
   "outputs": [
    {
     "data": {
      "image/png": "[encoded data removed]",
      "text/plain": [
       "<Figure size 432x288 with 1 Axes>"
      ]
     },
     "metadata": {},
     "output_type": "display_data"
    }
   ],
   "source": [
    "plt.plot(lat_dim_set, times, 'o')\n",
    "plt.show()"
   ]
  },
  {
   "cell_type": "code",
   "execution_count": 23,
   "metadata": {},
   "outputs": [],
   "source": [
    "def handler(task):\n",
    "    dir_for_tmp_files, dataset, id, kwargs = task\n",
    "    #print(kwargs)\n",
    "    return measure_iteration_time(dir_for_tmp_files, dataset, id, **kwargs)\n",
    "\n",
    "\n",
    "def measure_lags_time_dependence(dir_for_tmp_files, dataset, id, lags_set, **kwargs):\n",
    "    tasks = []\n",
    "    for lags in lags_set:\n",
    "        all_kwargs = copy.deepcopy(kwargs)\n",
    "        all_kwargs['lags'] = lags\n",
    "        suffix = ''\n",
    "        for lag in lags:\n",
    "            suffix += '_' + str(lag)\n",
    "        if len(suffix) > 50:\n",
    "            suffix = suffix[0:50]\n",
    "        tasks.append([dir_for_tmp_files, dataset, str(id) + '___' + suffix, all_kwargs])\n",
    "    \n",
    "    p = Pool(cpu_count())\n",
    "    times = []\n",
    "    for time in tqdm.tqdm_notebook(p.imap(handler, tasks)):\n",
    "        times.append(time)\n",
    "    return times"
   ]
  },
  {
   "cell_type": "code",
   "execution_count": 24,
   "metadata": {},
   "outputs": [
    {
     "data": {
      "application/vnd.jupyter.widget-view+json": {
       "model_id": "c3aa0fc93aef4c1eb2861fbf074f4e56",
       "version_major": 2,
       "version_minor": 0
      },
      "text/plain": [
       "HBox(children=(IntProgress(value=1, bar_style='info', max=1), HTML(value='')))"
      ]
     },
     "metadata": {},
     "output_type": "display_data"
    },
    {
     "name": "stdout",
     "output_type": "stream",
     "text": [
      "\n"
     ]
    }
   ],
   "source": [
    "lags_set = []\n",
    "for i in range(5, 50, 5):\n",
    "    lags_set.append([j + 1 for j in range(i)])\n",
    "    \n",
    "times = measure_lags_time_dependence('tmp', average_dataset[0:3000], 1, lags_set, verbose = False,\\\n",
    "                                        eta = 0.01, lambdaX = 10000, \\\n",
    "              lambdaW = 1000, lambdaF = 0.01, eval = 1)"
   ]
  },
  {
   "cell_type": "code",
   "execution_count": 25,
   "metadata": {},
   "outputs": [
    {
     "data": {
      "image/png": "[encoded data removed]",
      "text/plain": [
       "<Figure size 432x288 with 1 Axes>"
      ]
     },
     "metadata": {},
     "output_type": "display_data"
    }
   ],
   "source": [
    "lengths = [len(lags) for lags in lags_set]\n",
    "plt.plot(lengths, times, 'o')\n",
    "plt.show()"
   ]
  },
  {
   "cell_type": "code",
   "execution_count": 26,
   "metadata": {},
   "outputs": [
    {
     "name": "stdout",
     "output_type": "stream",
     "text": [
      "[1.54995746]\n",
      "[1.77871055]\n"
     ]
    }
   ],
   "source": [
    "from sklearn.linear_model import LinearRegression\n",
    "log_lengths = np.log(np.asarray(lengths))\n",
    "log_times = np.log(np.asarray(times))\n",
    "clf = LinearRegression()\n",
    "clf.fit(log_lengths[:, np.newaxis], log_times[:, np.newaxis])\n",
    "print(clf.coef_[0])\n",
    "\n",
    "clf = LinearRegression()\n",
    "clf.fit(log_lengths[-4:, np.newaxis], log_times[-4:, np.newaxis])\n",
    "print(clf.coef_[0])"
   ]
  },
  {
   "cell_type": "code",
   "execution_count": 27,
   "metadata": {},
   "outputs": [],
   "source": [
    "def handler(task):\n",
    "    dir_for_tmp_files, dataset, id, kwargs = task\n",
    "    #print(kwargs)\n",
    "    return measure_iteration_time(dir_for_tmp_files, dataset, id, **kwargs)\n",
    "\n",
    "\n",
    "def measure_num_currencies_time_dependence(dir_for_tmp_files, dataset, id, num_currencies_set, **kwargs):\n",
    "    tasks = []\n",
    "    for num_currencies in num_currencies_set:        \n",
    "        suffix = str(num_currencies)\n",
    "        columns_except_timestamps = [column for column in dataset.columns if column != 'timestamps']\n",
    "        columns_now = []\n",
    "        for i in range(num_currencies):\n",
    "            columns_now.append(columns_except_timestamps[i])\n",
    "        dataset_now = dataset[['timestamps'] + columns_now]\n",
    "        tasks.append([dir_for_tmp_files, dataset_now, str(id) + '___' + suffix, kwargs])\n",
    "    \n",
    "    p = Pool(cpu_count())\n",
    "    times = []\n",
    "    for time in tqdm.tqdm_notebook(p.imap(handler, tasks)):\n",
    "        times.append(time)\n",
    "    return times"
   ]
  },
  {
   "cell_type": "code",
   "execution_count": 28,
   "metadata": {},
   "outputs": [
    {
     "name": "stdout",
     "output_type": "stream",
     "text": [
      "(38574, 21)\n"
     ]
    }
   ],
   "source": [
    "print(average_dataset.shape)"
   ]
  },
  {
   "cell_type": "code",
   "execution_count": 29,
   "metadata": {},
   "outputs": [
    {
     "data": {
      "application/vnd.jupyter.widget-view+json": {
       "model_id": "e188b4c7b57942d5a426fd2fb0e9c07a",
       "version_major": 2,
       "version_minor": 0
      },
      "text/plain": [
       "HBox(children=(IntProgress(value=1, bar_style='info', max=1), HTML(value='')))"
      ]
     },
     "metadata": {},
     "output_type": "display_data"
    },
    {
     "name": "stdout",
     "output_type": "stream",
     "text": [
      "\n"
     ]
    }
   ],
   "source": [
    "num_currencies_set = [(i + 1) * 3 for i in range(6)]\n",
    "    \n",
    "times = measure_num_currencies_time_dependence('tmp', average_dataset, 1, num_currencies_set, verbose = False,\\\n",
    "                                        eta = 0.01, lambdaX = 10000, \\\n",
    "              lambdaW = 1000, lambdaF = 0.01, eval = 1)"
   ]
  },
  {
   "cell_type": "code",
   "execution_count": 30,
   "metadata": {},
   "outputs": [
    {
     "data": {
      "image/png": "[encoded data removed]",
      "text/plain": [
       "<Figure size 432x288 with 1 Axes>"
      ]
     },
     "metadata": {},
     "output_type": "display_data"
    }
   ],
   "source": [
    "plt.plot(num_currencies_set, times, 'o')\n",
    "plt.show()"
   ]
  },
  {
   "cell_type": "markdown",
   "metadata": {},
   "source": [
    "approximately const there"
   ]
  },
  {
   "cell_type": "code",
   "execution_count": null,
   "metadata": {},
   "outputs": [],
   "source": []
  }
 ],
 "metadata": {
  "kernelspec": {
   "display_name": "Python 3",
   "language": "python",
   "name": "python3"
  },
  "language_info": {
   "codemirror_mode": {
    "name": "ipython",
    "version": 3
   },
   "file_extension": ".py",
   "mimetype": "text/x-python",
   "name": "python",
   "nbconvert_exporter": "python",
   "pygments_lexer": "ipython3",
   "version": "3.6.3"
  }
 },
 "nbformat": 4,
 "nbformat_minor": 2
}
